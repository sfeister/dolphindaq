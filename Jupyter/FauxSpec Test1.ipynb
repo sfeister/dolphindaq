{
 "cells": [
  {
   "cell_type": "markdown",
   "id": "70b1cbeb",
   "metadata": {},
   "source": [
    "# FauxSpec Test1"
   ]
  },
  {
   "cell_type": "markdown",
   "id": "e06c3e80",
   "metadata": {},
   "source": [
    "## Import necessary Python modules"
   ]
  },
  {
   "cell_type": "code",
   "execution_count": 2,
   "id": "37d50a1b",
   "metadata": {},
   "outputs": [],
   "source": [
    "import numpy as np\n",
    "import epics # 'epics' is part of pyepics\n",
    "from epics import PV\n",
    "from time import sleep"
   ]
  },
  {
   "cell_type": "markdown",
   "id": "01e8dbee",
   "metadata": {},
   "source": [
    "## Set up some initial conditions"
   ]
  },
  {
   "cell_type": "code",
   "execution_count": 13,
   "id": "f2525bf6",
   "metadata": {},
   "outputs": [
    {
     "name": "stdout",
     "output_type": "stream",
     "text": [
      "\n",
      "\n",
      "DolphinDAQ,FauxSpec,#00,20230418\n"
     ]
    }
   ],
   "source": [
    "rosie1 = \"TEENSYROSIE:\"\n",
    "pulse1 = \"TEENSYPULSE:\"\n",
    "\n",
    "print(epics.caget(pulse1 + \"info\"))\n",
    "print(epics.caget(rosie1 + \"info\"))\n",
    "print(epics.caget(\"FAUXSPEC:info\"))\n",
    "\n",
    "epics.caput(rosie1 + \"rosie:output:enabled:set\", 0)\n",
    "epics.caput(rosie1 + \"trigger:decimation:set\", 1)"
   ]
  },
  {
   "cell_type": "code",
   "execution_count": 20,
   "id": "97d18c8e",
   "metadata": {},
   "outputs": [
    {
     "data": {
      "text/plain": [
       "1"
      ]
     },
     "execution_count": 20,
     "metadata": {},
     "output_type": "execute_result"
    }
   ],
   "source": [
    "epics.caput(rosie1 + \"rosie:output:enabled:set\", 0)\n"
   ]
  },
  {
   "cell_type": "code",
   "execution_count": 7,
   "id": "2f2e873a",
   "metadata": {},
   "outputs": [
    {
     "name": "stdout",
     "output_type": "stream",
     "text": [
      "4510.0\n"
     ]
    }
   ],
   "source": []
  },
  {
   "cell_type": "code",
   "execution_count": null,
   "id": "6b3fb891",
   "metadata": {},
   "outputs": [],
   "source": []
  }
 ],
 "metadata": {
  "kernelspec": {
   "display_name": "Python 3",
   "language": "python",
   "name": "python3"
  },
  "language_info": {
   "codemirror_mode": {
    "name": "ipython",
    "version": 3
   },
   "file_extension": ".py",
   "mimetype": "text/x-python",
   "name": "python",
   "nbconvert_exporter": "python",
   "pygments_lexer": "ipython3",
   "version": "3.9.6"
  }
 },
 "nbformat": 4,
 "nbformat_minor": 5
}
