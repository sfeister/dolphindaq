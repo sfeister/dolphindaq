{
 "cells": [
  {
   "cell_type": "markdown",
   "id": "e3eaa527-82a6-4bfe-841e-086c4fb9e8c1",
   "metadata": {},
   "source": [
    "# PVAPy Exploration\n",
    "\n",
    "My goals are to do simple channel access and pvaccess gets and monitors"
   ]
  },
  {
   "cell_type": "code",
   "execution_count": 1,
   "id": "5f5a46fd-345c-461d-a138-6416180fff4a",
   "metadata": {},
   "outputs": [],
   "source": [
    "import pvaccess as pva\n",
    "import datetime\n",
    "import time\n",
    "from time import sleep\n",
    "import numpy as np"
   ]
  },
  {
   "cell_type": "markdown",
   "id": "b68df39c-da7d-4922-ab52-99dead49d8b4",
   "metadata": {},
   "source": [
    "## Channel Access Gets"
   ]
  },
  {
   "cell_type": "markdown",
   "id": "244e210a-5bbb-4847-a92b-4033ce1f80c1",
   "metadata": {},
   "source": [
    "Drawing on examples folder from GitHub for PVAPy, especially the [channelMonitorExample.py](https://github.com/epics-base/pvaPy/blob/master/examples/channelMonitorExample.py)"
   ]
  },
  {
   "cell_type": "markdown",
   "id": "0b655b10-595d-4de3-8b2d-dd030f25cb4f",
   "metadata": {},
   "source": [
    "### Create a Channel object"
   ]
  },
  {
   "cell_type": "code",
   "execution_count": 2,
   "id": "021325c6-35d8-41de-8545-a10c731208f7",
   "metadata": {},
   "outputs": [
    {
     "data": {
      "text/plain": [
       "pvaccess.pvaccess.Channel"
      ]
     },
     "execution_count": 2,
     "metadata": {},
     "output_type": "execute_result"
    }
   ],
   "source": [
    "c = pva.Channel('PULSEGEN:info', pva.CA)\n",
    "type(c)"
   ]
  },
  {
   "cell_type": "markdown",
   "id": "0a74beb1-ec09-4ee9-b3e0-9ef8233cbce8",
   "metadata": {},
   "source": [
    "### Get and process just the value for this channel"
   ]
  },
  {
   "cell_type": "markdown",
   "id": "a518bfdd-a1dc-4497-980f-4f1a67d210de",
   "metadata": {},
   "source": [
    "#### Retrieve a PVObject object by calling \"get\" on the channelpvobj.getAsString()"
   ]
  },
  {
   "cell_type": "code",
   "execution_count": 3,
   "id": "ce346049-ba87-402c-9945-2ea983b003d5",
   "metadata": {},
   "outputs": [
    {
     "data": {
      "text/plain": [
       "pvaccess.pvaccess.PvObject"
      ]
     },
     "execution_count": 3,
     "metadata": {},
     "output_type": "execute_result"
    }
   ],
   "source": [
    "pvobj = c.get()\n",
    "type(pvobj)"
   ]
  },
  {
   "cell_type": "markdown",
   "id": "0f8251da-12a9-4c90-8533-a7ecc330b5f9",
   "metadata": {},
   "source": [
    "#### View the PVObject as a string"
   ]
  },
  {
   "cell_type": "code",
   "execution_count": 4,
   "id": "b15fc310-2a97-4722-9f18-e7e14dcb238d",
   "metadata": {},
   "outputs": [
    {
     "data": {
      "text/plain": [
       "'DOLPHINDAQ,TeensyPulse,00,20240807'"
      ]
     },
     "execution_count": 4,
     "metadata": {},
     "output_type": "execute_result"
    }
   ],
   "source": [
    "pvobj.getAsString()"
   ]
  },
  {
   "cell_type": "markdown",
   "id": "6ffd0088-fe1e-42a4-b669-47eab1037f21",
   "metadata": {
    "editable": true,
    "slideshow": {
     "slide_type": ""
    },
    "tags": []
   },
   "source": [
    "#### View the PVObject in its dict form"
   ]
  },
  {
   "cell_type": "code",
   "execution_count": 5,
   "id": "a3c26ecf-b0d7-49c6-8529-eca2cdcd4503",
   "metadata": {},
   "outputs": [
    {
     "data": {
      "text/plain": [
       "{'value': 'DOLPHINDAQ,TeensyPulse,00,20240807'}"
      ]
     },
     "execution_count": 5,
     "metadata": {},
     "output_type": "execute_result"
    }
   ],
   "source": [
    "pvobj.get()"
   ]
  },
  {
   "cell_type": "markdown",
   "id": "6f25d597-1dd1-47c0-b187-0c95398ce447",
   "metadata": {},
   "source": [
    "#### Generic conversion into the right format"
   ]
  },
  {
   "cell_type": "code",
   "execution_count": 6,
   "id": "8301cd6a-c399-466c-bf91-57237c601c96",
   "metadata": {},
   "outputs": [
    {
     "data": {
      "text/plain": [
       "'DOLPHINDAQ,TeensyPulse,00,20240807'"
      ]
     },
     "execution_count": 6,
     "metadata": {},
     "output_type": "execute_result"
    }
   ],
   "source": [
    "pvobj.getPyObject()"
   ]
  },
  {
   "cell_type": "markdown",
   "id": "9ea7fadf-f46f-46f7-b8a4-6491eba44cd1",
   "metadata": {},
   "source": [
    "### Get and process both the field and timestamp"
   ]
  },
  {
   "cell_type": "code",
   "execution_count": 7,
   "id": "a83aab25-8907-42bd-8013-74706409aa99",
   "metadata": {},
   "outputs": [],
   "source": [
    "pvobj = c.get('field(value,timeStamp)')\n",
    "assert(isinstance(pvobj, pva.pvaccess.PvObject))"
   ]
  },
  {
   "cell_type": "code",
   "execution_count": 8,
   "id": "684f0b3a-e06e-4a6c-a658-a37c9bfb1a47",
   "metadata": {},
   "outputs": [
    {
     "data": {
      "text/plain": [
       "{'value': 'DOLPHINDAQ,TeensyPulse,00,20240807',\n",
       " 'timeStamp': {'secondsPastEpoch': 1724724463,\n",
       "  'nanoseconds': 798206584,\n",
       "  'userTag': 0}}"
      ]
     },
     "execution_count": 8,
     "metadata": {},
     "output_type": "execute_result"
    }
   ],
   "source": [
    "pvobj.get()"
   ]
  },
  {
   "cell_type": "code",
   "execution_count": 9,
   "id": "c33ed8ad-4ce1-4a8c-b03e-d75ff9d3f806",
   "metadata": {},
   "outputs": [
    {
     "data": {
      "text/plain": [
       "{'secondsPastEpoch': 1724724463, 'nanoseconds': 798206584, 'userTag': 0}"
      ]
     },
     "execution_count": 9,
     "metadata": {},
     "output_type": "execute_result"
    }
   ],
   "source": [
    "pvobj.getPyObject('timeStamp')"
   ]
  },
  {
   "cell_type": "code",
   "execution_count": 10,
   "id": "dc0ce087-02d2-40cf-81df-748d6f374968",
   "metadata": {},
   "outputs": [
    {
     "data": {
      "text/plain": [
       "dict"
      ]
     },
     "execution_count": 10,
     "metadata": {},
     "output_type": "execute_result"
    }
   ],
   "source": [
    "type(pvobj.getPyObject('timeStamp'))"
   ]
  },
  {
   "cell_type": "code",
   "execution_count": 11,
   "id": "21b95408-3239-4793-8319-85bdd5489e62",
   "metadata": {},
   "outputs": [
    {
     "data": {
      "text/plain": [
       "1724724463"
      ]
     },
     "execution_count": 11,
     "metadata": {},
     "output_type": "execute_result"
    }
   ],
   "source": [
    "pvobj[\"timeStamp\"][\"secondsPastEpoch\"]"
   ]
  },
  {
   "cell_type": "code",
   "execution_count": 12,
   "id": "b3e9eff6-f7b5-4608-a48e-8f9c75aed52c",
   "metadata": {},
   "outputs": [],
   "source": [
    "# pvobj_ts = pva.PvTimeStamp(pvobj[\"timeStamp\"][\"secondsPastEpoch\"], pvobj[\"timeStamp\"][\"nanoseconds\"])"
   ]
  },
  {
   "cell_type": "code",
   "execution_count": 13,
   "id": "4122e988-8d07-4916-bd6a-af4893fbd17c",
   "metadata": {},
   "outputs": [],
   "source": [
    "pvobj_ts = datetime.datetime.fromtimestamp(pvobj[\"timeStamp\"][\"secondsPastEpoch\"] + pvobj[\"timeStamp\"][\"nanoseconds\"]*1e-9)"
   ]
  },
  {
   "cell_type": "code",
   "execution_count": 14,
   "id": "be6d0c33-099f-4fa3-b1dc-8e42748420b2",
   "metadata": {},
   "outputs": [
    {
     "data": {
      "text/plain": [
       "{'value': pvaccess.pvaccess.ScalarType.STRING,\n",
       " 'timeStamp': {'secondsPastEpoch': pvaccess.pvaccess.ScalarType.LONG,\n",
       "  'nanoseconds': pvaccess.pvaccess.ScalarType.INT,\n",
       "  'userTag': pvaccess.pvaccess.ScalarType.INT}}"
      ]
     },
     "execution_count": 14,
     "metadata": {},
     "output_type": "execute_result"
    }
   ],
   "source": [
    "pvobj.getStructureDict()"
   ]
  },
  {
   "cell_type": "code",
   "execution_count": 15,
   "id": "57d0f06f-18ac-4003-ab93-707ee56524b5",
   "metadata": {},
   "outputs": [],
   "source": [
    "def myget(channel):\n",
    "    \"\"\" Synchronous get on a channel, with conversion to regular python objects \"\"\"\n",
    "    pvobj = channel.get('field(value,timeStamp)')\n",
    "    value = pvobj[\"value\"]\n",
    "    timestamp = datetime.datetime.fromtimestamp(pvobj[\"timeStamp\"][\"secondsPastEpoch\"] + pvobj[\"timeStamp\"][\"nanoseconds\"]*1e-9)\n",
    "    return value, timestamp"
   ]
  },
  {
   "cell_type": "code",
   "execution_count": null,
   "id": "6d4dc579-0412-4158-98b9-0350393bd7e6",
   "metadata": {},
   "outputs": [],
   "source": []
  },
  {
   "cell_type": "code",
   "execution_count": 16,
   "id": "ad69ae15-d66d-4968-a55f-d3bb2e438b53",
   "metadata": {
    "scrolled": true
   },
   "outputs": [
    {
     "data": {
      "text/plain": [
       "{'value': '\\x00'}"
      ]
     },
     "execution_count": 16,
     "metadata": {},
     "output_type": "execute_result"
    }
   ],
   "source": [
    "myproc = pva.Channel('PULSEGEN:info.PROC', pva.CA)\n",
    "myproc.get().get()"
   ]
  },
  {
   "cell_type": "code",
   "execution_count": 17,
   "id": "d18e4c15-58b0-4775-907f-6f6cb923f5bc",
   "metadata": {},
   "outputs": [
    {
     "data": {
      "text/plain": [
       "<bound method put of <pvaccess.pvaccess.Channel object at 0x000001F1A2CBF150>>"
      ]
     },
     "execution_count": 17,
     "metadata": {},
     "output_type": "execute_result"
    }
   ],
   "source": [
    "myproc.put"
   ]
  },
  {
   "cell_type": "markdown",
   "id": "50b49330-717d-4b72-9840-6453f490e87c",
   "metadata": {},
   "source": [
    "### Trying to get another field besides value, timeStamp, alarm"
   ]
  },
  {
   "cell_type": "code",
   "execution_count": 18,
   "id": "28fa9e33-9b33-414b-b8e2-4346696f9716",
   "metadata": {},
   "outputs": [
    {
     "data": {
      "text/plain": [
       "{'value': 'DOLPHINDAQ,TeensyPulse,00,20240807'}"
      ]
     },
     "execution_count": 18,
     "metadata": {},
     "output_type": "execute_result"
    }
   ],
   "source": [
    "pvobj = c.get()\n",
    "pvobj.get()"
   ]
  },
  {
   "cell_type": "code",
   "execution_count": 19,
   "id": "57305bfd-3879-441f-bd33-76ef2a17218a",
   "metadata": {},
   "outputs": [
    {
     "data": {
      "text/plain": [
       "{'value': 'DOLPHINDAQ,TeensyPulse,00,20240807',\n",
       " 'alarm': {'severity': 0, 'status': 0, 'message': ''},\n",
       " 'timeStamp': {'secondsPastEpoch': 1724724473,\n",
       "  'nanoseconds': 798219342,\n",
       "  'userTag': 0}}"
      ]
     },
     "execution_count": 19,
     "metadata": {},
     "output_type": "execute_result"
    }
   ],
   "source": [
    "pvobj = c.get('value,alarm,timeStamp,display,control,valueAlarm')\n",
    "pvobj.get()"
   ]
  },
  {
   "cell_type": "markdown",
   "id": "5aa6302b-1b6a-4f85-af1b-70e2dff6b8d5",
   "metadata": {},
   "source": [
    "## Trying to only get fresh data"
   ]
  },
  {
   "cell_type": "markdown",
   "id": "9d461f75-c35d-4018-9f89-d1b9459cd62b",
   "metadata": {},
   "source": [
    "#### Delays show the value is changing"
   ]
  },
  {
   "cell_type": "code",
   "execution_count": 20,
   "id": "0888bc75-bf14-4faa-8586-9af98174e061",
   "metadata": {},
   "outputs": [
    {
     "name": "stdout",
     "output_type": "stream",
     "text": [
      "2024-08-26 19:07:54.823354 :  3167.0\n",
      "2024-08-26 19:07:55.823369 :  3177.0\n",
      "2024-08-26 19:07:56.823333 :  3187.0\n",
      "2024-08-26 19:07:57.823359 :  3197.0\n",
      "2024-08-26 19:07:58.823338 :  3207.0\n",
      "2024-08-26 19:07:59.823326 :  3217.0\n",
      "2024-08-26 19:08:00.823365 :  3227.0\n",
      "2024-08-26 19:08:01.823376 :  3237.0\n",
      "2024-08-26 19:08:02.823361 :  3247.0\n",
      "2024-08-26 19:08:03.823346 :  3257.0\n"
     ]
    }
   ],
   "source": [
    "trigcnt = pva.Channel('PULSEGEN:trigger:count', pva.CA)\n",
    "for i in range(10):\n",
    "    value, timestamp = myget(trigcnt)\n",
    "    print(timestamp, \": \", value)\n",
    "    sleep(1)"
   ]
  },
  {
   "cell_type": "markdown",
   "id": "da8e7abb-5296-4569-a9ad-e6487ca41efa",
   "metadata": {},
   "source": [
    "#### Without delays, no changes"
   ]
  },
  {
   "cell_type": "code",
   "execution_count": 21,
   "id": "38861afc-b66f-4715-b904-ac4332b70e09",
   "metadata": {},
   "outputs": [
    {
     "name": "stdout",
     "output_type": "stream",
     "text": [
      "2024-08-26 19:08:04.823331 :  3267.0\n",
      "2024-08-26 19:08:04.823331 :  3267.0\n",
      "2024-08-26 19:08:04.823331 :  3267.0\n",
      "2024-08-26 19:08:04.823331 :  3267.0\n",
      "2024-08-26 19:08:04.823331 :  3267.0\n",
      "2024-08-26 19:08:04.823331 :  3267.0\n",
      "2024-08-26 19:08:04.823331 :  3267.0\n",
      "2024-08-26 19:08:04.823331 :  3267.0\n",
      "2024-08-26 19:08:04.823331 :  3267.0\n",
      "2024-08-26 19:08:04.823331 :  3267.0\n"
     ]
    }
   ],
   "source": [
    "trigcnt = pva.Channel('PULSEGEN:trigger:count', pva.CA)\n",
    "for i in range(10):\n",
    "    value, timestamp = myget(trigcnt)\n",
    "    print(timestamp, \": \", value)"
   ]
  },
  {
   "cell_type": "markdown",
   "id": "8098cab6-e947-44a4-9323-7c112ff8c353",
   "metadata": {},
   "source": [
    "#### With minimal delays, streaks and then changes\n",
    "Record is not being forced to process. Updating at the scan rate of the record, which is set to \"1 second\":\n",
    "\n",
    "```\n",
    "record(int64in,\"$(P):trigger:count\"){\n",
    "    field(DESC,\"Get global trigger count\")\n",
    "    field(SCAN,\"1 second\")\n",
    "\tfield(DTYP,\"stream\")\n",
    "    field(INP,\"@teensypulse.proto TriggerCountQ $(BUS)\")\n",
    "    }\n",
    "```"
   ]
  },
  {
   "cell_type": "code",
   "execution_count": 22,
   "id": "fdb2958e-fd03-4552-96ef-07f812c78eba",
   "metadata": {},
   "outputs": [
    {
     "name": "stdout",
     "output_type": "stream",
     "text": [
      "2024-08-26 19:08:04.823331 :  3267.0\n",
      "2024-08-26 19:08:04.823331 :  3267.0\n",
      "2024-08-26 19:08:05.821527 :  3277.0\n",
      "2024-08-26 19:08:05.821527 :  3277.0\n",
      "2024-08-26 19:08:06.823338 :  3287.0\n",
      "2024-08-26 19:08:06.823338 :  3287.0\n",
      "2024-08-26 19:08:07.823392 :  3297.0\n",
      "2024-08-26 19:08:07.823392 :  3297.0\n",
      "2024-08-26 19:08:08.823540 :  3307.0\n",
      "2024-08-26 19:08:08.823540 :  3307.0\n"
     ]
    }
   ],
   "source": [
    "trigcnt = pva.Channel('PULSEGEN:trigger:count', pva.CA)\n",
    "for i in range(10):\n",
    "    value, timestamp = myget(trigcnt)\n",
    "    print(timestamp, \": \", value)\n",
    "    sleep(0.5)"
   ]
  },
  {
   "cell_type": "markdown",
   "id": "9f425fed-cbdb-4936-9e56-7a8f45489091",
   "metadata": {},
   "source": [
    "#### Force a record to process faster than its scan rate\n",
    "\n",
    "Reference: [EPICS Tech-talk 2012 question about forcing processing](https://epics.anl.gov/tech-talk/2012/msg01561.php)"
   ]
  },
  {
   "cell_type": "code",
   "execution_count": 23,
   "id": "10c41a49-d160-4aaa-8702-7cd9a3fefc5d",
   "metadata": {},
   "outputs": [
    {
     "name": "stdout",
     "output_type": "stream",
     "text": [
      "2024-08-26 19:08:10.197187 :  3321.0\n",
      "2024-08-26 19:08:10.197187 :  3321.0\n",
      "2024-08-26 19:08:10.278386 :  3321.0\n",
      "2024-08-26 19:08:10.334633 :  3322.0\n",
      "2024-08-26 19:08:10.388928 :  3322.0\n",
      "2024-08-26 19:08:10.504403 :  3324.0\n",
      "2024-08-26 19:08:10.561920 :  3324.0\n",
      "2024-08-26 19:08:10.618255 :  3325.0\n",
      "2024-08-26 19:08:10.677672 :  3325.0\n",
      "2024-08-26 19:08:10.734636 :  3326.0\n"
     ]
    }
   ],
   "source": [
    "trigcnt = pva.Channel('PULSEGEN:trigger:count', pva.CA)\n",
    "trigcnt_proc = pva.Channel('PULSEGEN:trigger:count.PROC', pva.CA)\n",
    "for i in range(10):\n",
    "    trigcnt_proc.put(1) # Force record to process\n",
    "    value, timestamp = myget(trigcnt)\n",
    "    print(timestamp, \": \", value)\n",
    "    sleep(0.05)"
   ]
  },
  {
   "cell_type": "markdown",
   "id": "715127d1-2b85-4204-ba3a-f73808a5a1d3",
   "metadata": {},
   "source": [
    "## How fast can I set a Control Setting? (Answer: 20-30 milliseconds)"
   ]
  },
  {
   "cell_type": "code",
   "execution_count": 24,
   "id": "66873421-a113-4525-942d-b97e1496756c",
   "metadata": {},
   "outputs": [],
   "source": [
    "powers = pva.Channel('LASER:powers:set', pva.CA)\n",
    "powers_RBV = pva.Channel('LASER:powers', pva.CA)\n",
    "powers_RBV_proc = pva.Channel('LASER:powers.PROC', pva.CA)"
   ]
  },
  {
   "cell_type": "code",
   "execution_count": 25,
   "id": "85d49033-d4e6-490d-8386-e0e65eee10a8",
   "metadata": {},
   "outputs": [
    {
     "data": {
      "text/plain": [
       "array([ 0,  1,  2,  3,  4,  5,  6,  7,  8,  9, 10, 11, 12, 13, 14, 15, 16,\n",
       "       17, 18, 19, 20, 21, 22, 23, 24, 25, 26, 27, 28, 29, 30, 31, 32, 33,\n",
       "       34, 35, 36, 37, 38, 39, 40, 41, 42, 43, 44, 45, 46, 47, 48, 49, 50,\n",
       "       51, 52, 53, 54, 55, 56, 57, 58, 59, 60, 61, 62, 63, 64, 65, 66, 67,\n",
       "       68, 69, 70, 71, 72, 73, 74, 75, 76, 77, 78, 79, 80, 81, 82, 83, 84,\n",
       "       85, 86, 87, 88, 89, 90, 91, 92, 93, 94, 95, 96, 97, 98, 99])"
      ]
     },
     "execution_count": 25,
     "metadata": {},
     "output_type": "execute_result"
    }
   ],
   "source": [
    "powers_RBV.get().getScalarArray()"
   ]
  },
  {
   "cell_type": "code",
   "execution_count": 26,
   "id": "b401f227-d7fd-4963-9a59-547207dece84",
   "metadata": {},
   "outputs": [],
   "source": [
    "ascending = np.uint8(np.linspace(0, 255, 100))\n",
    "descending = np.uint8(np.linspace(255, 0, 100))\n",
    "spiky = np.uint8(np.tile([0,255], 50))"
   ]
  },
  {
   "cell_type": "code",
   "execution_count": 27,
   "id": "e6005a7d-0229-4482-8b4c-ded5f18f91d4",
   "metadata": {},
   "outputs": [],
   "source": [
    "powers.putScalarArray(list(spiky))"
   ]
  },
  {
   "cell_type": "code",
   "execution_count": 28,
   "id": "998c743f-e72a-4ad4-854f-f10099bfed50",
   "metadata": {},
   "outputs": [
    {
     "data": {
      "text/plain": [
       "array([ 0,  1,  2,  3,  4,  5,  6,  7,  8,  9, 10, 11, 12, 13, 14, 15, 16,\n",
       "       17, 18, 19, 20, 21, 22, 23, 24, 25, 26, 27, 28, 29, 30, 31, 32, 33,\n",
       "       34, 35, 36, 37, 38, 39, 40, 41, 42, 43, 44, 45, 46, 47, 48, 49, 50,\n",
       "       51, 52, 53, 54, 55, 56, 57, 58, 59, 60, 61, 62, 63, 64, 65, 66, 67,\n",
       "       68, 69, 70, 71, 72, 73, 74, 75, 76, 77, 78, 79, 80, 81, 82, 83, 84,\n",
       "       85, 86, 87, 88, 89, 90, 91, 92, 93, 94, 95, 96, 97, 98, 99])"
      ]
     },
     "execution_count": 28,
     "metadata": {},
     "output_type": "execute_result"
    }
   ],
   "source": [
    "powers_RBV.get().getScalarArray()"
   ]
  },
  {
   "cell_type": "markdown",
   "id": "fd5800ce-401e-48f7-84be-fbae8296fa01",
   "metadata": {},
   "source": [
    "#### Timer decorator\n",
    "Code copied directly from https://dev.to/kcdchennai/python-decorator-to-measure-execution-time-54hk"
   ]
  },
  {
   "cell_type": "code",
   "execution_count": 29,
   "id": "fe0b1965-66f1-45dd-b64c-37d77934da9f",
   "metadata": {},
   "outputs": [],
   "source": [
    "from functools import wraps\n",
    "import time\n",
    "\n",
    "def timeit(func):\n",
    "    @wraps(func)\n",
    "    def timeit_wrapper(*args, **kwargs):\n",
    "        start_time = time.perf_counter()\n",
    "        result = func(*args, **kwargs)\n",
    "        end_time = time.perf_counter()\n",
    "        total_time = end_time - start_time\n",
    "        #print(f'Function {func.__name__}{args} {kwargs} Took {total_time:.4f} seconds')\n",
    "        print(f'Function {func.__name__} took {total_time:.4f} seconds')\n",
    "        return result\n",
    "    return timeit_wrapper"
   ]
  },
  {
   "cell_type": "code",
   "execution_count": 30,
   "id": "d965c067-c6f1-47a5-842b-305883c977a1",
   "metadata": {},
   "outputs": [],
   "source": [
    "@timeit\n",
    "def reach_setpoint(powers_setpoint_array, powers_CA=powers, powers_RBV_CA=powers_RBV):\n",
    "    \"\"\" Gets us to a certain setpoint for a value \"\"\"\n",
    "    powers_CA.putScalarArray(list(powers_setpoint_array))\n",
    "    while not np.array_equal(powers_RBV_CA.get().getScalarArray(), powers_setpoint_array):\n",
    "        sleep(0.01)\n",
    "    return"
   ]
  },
  {
   "cell_type": "code",
   "execution_count": 31,
   "id": "6850c7e5-eefb-4e2c-adab-58c5701b2f78",
   "metadata": {},
   "outputs": [
    {
     "name": "stdout",
     "output_type": "stream",
     "text": [
      "Function reach_setpoint took 0.0195 seconds\n",
      "Function reach_setpoint took 0.0954 seconds\n",
      "Function reach_setpoint took 0.0983 seconds\n"
     ]
    }
   ],
   "source": [
    "for setpoint in [ascending, descending, spiky]:\n",
    "    reach_setpoint(setpoint)"
   ]
  },
  {
   "cell_type": "code",
   "execution_count": 32,
   "id": "e3617433-f334-49dd-a99f-f8a10249578c",
   "metadata": {},
   "outputs": [],
   "source": [
    "@timeit\n",
    "def reach_setpoint_faster(powers_setpoint_array, powers_CA=powers, powers_RBV_proc_CA=powers_RBV_proc, powers_RBV_CA=powers_RBV):\n",
    "    \"\"\" Gets us to a certain setpoint for a value \"\"\"\n",
    "    powers_CA.putScalarArray(list(powers_setpoint_array))\n",
    "    while not np.array_equal(powers_RBV_CA.get().getScalarArray(), powers_setpoint_array):\n",
    "        powers_RBV_proc_CA.put(1)\n",
    "        sleep(0.01)\n",
    "    return"
   ]
  },
  {
   "cell_type": "code",
   "execution_count": 33,
   "id": "a8e15012-cc8e-4ab7-bf64-cb46e5f8ef35",
   "metadata": {},
   "outputs": [
    {
     "name": "stdout",
     "output_type": "stream",
     "text": [
      "Function reach_setpoint_faster took 0.0345 seconds\n",
      "Function reach_setpoint_faster took 0.0200 seconds\n",
      "Function reach_setpoint_faster took 0.0299 seconds\n"
     ]
    }
   ],
   "source": [
    "for setpoint in [ascending, descending, spiky]:\n",
    "    reach_setpoint_faster(setpoint)"
   ]
  },
  {
   "cell_type": "code",
   "execution_count": 34,
   "id": "ed4b5768-f3e2-4963-989c-8a0ae6c0a774",
   "metadata": {},
   "outputs": [
    {
     "name": "stdout",
     "output_type": "stream",
     "text": [
      "Function reach_setpoint_faster took 0.0196 seconds\n",
      "Function reach_setpoint_faster took 0.0205 seconds\n",
      "Function reach_setpoint_faster took 0.0206 seconds\n",
      "Function reach_setpoint_faster took 0.0258 seconds\n",
      "Function reach_setpoint_faster took 0.0204 seconds\n",
      "Function reach_setpoint_faster took 0.0246 seconds\n",
      "Function reach_setpoint_faster took 0.0223 seconds\n",
      "Function reach_setpoint_faster took 0.0214 seconds\n",
      "Function reach_setpoint_faster took 0.0294 seconds\n",
      "Function reach_setpoint_faster took 0.0262 seconds\n",
      "Function reach_setpoint_faster took 0.0222 seconds\n",
      "Function reach_setpoint_faster took 0.0211 seconds\n",
      "Function reach_setpoint_faster took 0.0305 seconds\n",
      "Function reach_setpoint_faster took 0.0196 seconds\n",
      "Function reach_setpoint_faster took 0.0208 seconds\n",
      "Function reach_setpoint_faster took 0.0220 seconds\n",
      "Function reach_setpoint_faster took 0.0333 seconds\n",
      "Function reach_setpoint_faster took 0.0207 seconds\n",
      "Function reach_setpoint_faster took 0.0233 seconds\n",
      "Function reach_setpoint_faster took 0.0206 seconds\n",
      "Function reach_setpoint_faster took 0.0218 seconds\n",
      "Function reach_setpoint_faster took 0.0226 seconds\n",
      "Function reach_setpoint_faster took 0.0235 seconds\n",
      "Function reach_setpoint_faster took 0.0201 seconds\n",
      "Function reach_setpoint_faster took 0.0215 seconds\n",
      "Function reach_setpoint_faster took 0.0282 seconds\n",
      "Function reach_setpoint_faster took 0.0207 seconds\n",
      "Function reach_setpoint_faster took 0.0219 seconds\n",
      "Function reach_setpoint_faster took 0.0212 seconds\n",
      "Function reach_setpoint_faster took 0.0213 seconds\n"
     ]
    }
   ],
   "source": [
    "for i in range(10):\n",
    "    for setpoint in [ascending, descending, spiky]:\n",
    "        reach_setpoint_faster(setpoint)"
   ]
  },
  {
   "cell_type": "markdown",
   "id": "41e634bc-dcd1-49e6-b535-94f980350505",
   "metadata": {},
   "source": [
    "The above seems like a success to me! I love how once in a while the set time took longer, which makes putting a hard-coded delay in here a bad plan. This approach works well."
   ]
  },
  {
   "cell_type": "markdown",
   "id": "d5952663-2f72-4fd0-bbc7-c1d8d609aba7",
   "metadata": {},
   "source": [
    "## PVAccess gets"
   ]
  },
  {
   "cell_type": "code",
   "execution_count": 35,
   "id": "9aa918bc-f162-48a4-aac1-d5f759149c32",
   "metadata": {},
   "outputs": [
    {
     "data": {
      "text/plain": [
       "{'value': 'Diode Teensy-Serial PVA Server, 20240724',\n",
       " 'alarm': {'severity': 0, 'status': 0, 'message': ''},\n",
       " 'timeStamp': {'secondsPastEpoch': 0, 'nanoseconds': 0, 'userTag': 0}}"
      ]
     },
     "execution_count": 35,
     "metadata": {},
     "output_type": "execute_result"
    }
   ],
   "source": [
    "c = pva.Channel('ELECTRON-DAQ:info', pva.PVA)\n",
    "c.get().get()"
   ]
  },
  {
   "cell_type": "code",
   "execution_count": 36,
   "id": "d7f3b624-e7ef-45ca-bfc1-20e2b2605d17",
   "metadata": {},
   "outputs": [],
   "source": [
    "c = pva.Channel('ELECTRON-DAQ:trace', pva.PVA)\n",
    "#pvobj = c.get('field(value,timeStamp,uniqueId,dataTimeStamp)')\n",
    "#pvobj[\"dataTimeStamp\"]\n",
    "\n",
    "@timeit\n",
    "def await_fresh_data(channel):\n",
    "    \"\"\"Await a new set of data with timestamp after the current time (relies on precision clock synchronization)\"\"\"    \n",
    "    minimum_timestamp = datetime.datetime.now() # timestamp that must be surpassed in the data before continuing\n",
    "\n",
    "    while True:\n",
    "        pvobj = c.get('field(timeStamp)')\n",
    "        pvtimestamp = datetime.datetime.fromtimestamp(pvobj[\"timeStamp\"][\"secondsPastEpoch\"] + pvobj[\"timeStamp\"][\"nanoseconds\"]*1e-9)\n",
    "        # print(pvtimestamp) # DEBUG\n",
    "        if pvtimestamp > minimum_timestamp:\n",
    "            break\n",
    "        sleep(0.005)"
   ]
  },
  {
   "cell_type": "code",
   "execution_count": 37,
   "id": "39e0f49a-db3f-41e8-aa80-544b3782acfc",
   "metadata": {},
   "outputs": [
    {
     "name": "stdout",
     "output_type": "stream",
     "text": [
      "Function await_fresh_data took 0.5428 seconds\n"
     ]
    }
   ],
   "source": [
    "await_fresh_data(c)"
   ]
  },
  {
   "cell_type": "code",
   "execution_count": 38,
   "id": "dff3395f-9000-4214-ba45-22ad633ef31f",
   "metadata": {},
   "outputs": [
    {
     "data": {
      "text/plain": [
       "<pvaccess.pvaccess.PvObject at 0x1f1a2cc9e70>"
      ]
     },
     "execution_count": 38,
     "metadata": {},
     "output_type": "execute_result"
    }
   ],
   "source": [
    "c.get('field(timeStamp)')"
   ]
  },
  {
   "cell_type": "code",
   "execution_count": 39,
   "id": "378deeb3-e446-41a8-b018-3cdc603350c1",
   "metadata": {},
   "outputs": [
    {
     "name": "stdout",
     "output_type": "stream",
     "text": [
      "structure \n",
      "    string value DOLPHINDAQ,TeensyPulse,00,20240807\n",
      "    alarm_t alarm\n",
      "        int severity 0\n",
      "        int status 0\n",
      "        string message \n",
      "    time_t timeStamp\n",
      "        long secondsPastEpoch 1724724473\n",
      "        int nanoseconds 798219342\n",
      "        int userTag 0\n",
      "\n"
     ]
    }
   ],
   "source": [
    "print(pvobj)"
   ]
  },
  {
   "cell_type": "code",
   "execution_count": null,
   "id": "e5f656ec-eb44-4552-94b6-36aa8a4cbb26",
   "metadata": {},
   "outputs": [],
   "source": []
  },
  {
   "cell_type": "markdown",
   "id": "242aeeac-f756-4bcb-b6c4-a2ea2c70f871",
   "metadata": {},
   "source": [
    "### Bring it all together"
   ]
  },
  {
   "cell_type": "code",
   "execution_count": 40,
   "id": "7953646b-f048-415b-aa75-5d26c6e4d378",
   "metadata": {},
   "outputs": [
    {
     "name": "stdout",
     "output_type": "stream",
     "text": [
      "Function reach_setpoint_faster took 0.0204 seconds\n",
      "Function await_fresh_data took 0.5329 seconds\n",
      "[  0   0   0   0   0   0   0   0   0   0   1   0   3   0   0   0   0   0\n",
      "   0   0   0   0   0   0   0   0   4  11  23  38  51  57  64  77  90  92\n",
      " 106 122 128 140 163 168 181 211 222 236 244 250 259 258 260 262 262 264\n",
      " 264 265 265 267 266 266 267 267 267 268 269 268 269 269 271 270 271 270\n",
      " 270 270 270 274 270 270 272 271 272 270 270 270 271 271 270 272 272 271\n",
      " 272 272 273 270 272 273 272 273 273 273]\n",
      "[ 0.  0.  0.  0.  0.  0.  0.  0.  0.  1. -1.  3. -3.  0.  0.  0.  0.  0.\n",
      "  0.  0.  0.  0.  0.  0.  0.  4.  7. 12. 15. 13.  6.  7. 13. 13.  2. 14.\n",
      " 16.  6. 12. 23.  5. 13. 30. 11. 14.  8.  6.  9. -1.  2.  2.  0.  2.  0.\n",
      "  1.  0.  2. -1.  0.  1.  0.  0.  1.  1. -1.  1.  0.  2. -1.  1. -1.  0.\n",
      "  0.  0.  4. -4.  0.  2. -1.  1. -2.  0.  0.  1.  0. -1.  2.  0. -1.  1.\n",
      "  0.  1. -3.  2.  1. -1.  1.  0.  0.]\n",
      "Function reach_setpoint_faster took 0.0234 seconds\n",
      "Function await_fresh_data took 0.5610 seconds\n",
      "[  0   0 224 311 317 317 315 316 317 316 316 315 315 315 314 314 313 313\n",
      " 313 312 313 312 312 312 311 311 311 310 312 311 310 310 310 310 310 311\n",
      " 309 308 309 308 309 307 307 307 305 305 305 303 304 303 302 301 299 298\n",
      " 298 294 287 285 267 263 237 203 196 178 159 149 133 119 116  98  85  83\n",
      "  71  66  55  44  38  29  20  12   8   6   5   4   3   3   2   1   2   2\n",
      "   1   1   5   1   1   1   1   1   0   1]\n",
      "[  0. 224.  87.   6.   0.  -2.   1.   1.  -1.   0.  -1.   0.   0.  -1.\n",
      "   0.  -1.   0.   0.  -1.   1.  -1.   0.   0.  -1.   0.   0.  -1.   2.\n",
      "  -1.  -1.   0.   0.   0.   0.   1.  -2.  -1.   1.  -1.   1.  -2.   0.\n",
      "   0.  -2.   0.   0.  -2.   1.  -1.  -1.  -1.  -2.  -1.   0.  -4.  -7.\n",
      "  -2. -18.  -4. -26. -34.  -7. -18. -19. -10. -16. -14.  -3. -18. -13.\n",
      "  -2. -12.  -5. -11. -11.  -6.  -9.  -9.  -8.  -4.  -2.  -1.  -1.  -1.\n",
      "   0.  -1.  -1.   1.   0.  -1.   0.   4.  -4.   0.   0.   0.   0.  -1.\n",
      "   1.]\n",
      "Function reach_setpoint_faster took 0.0215 seconds\n",
      "Function await_fresh_data took 0.5538 seconds\n",
      "[  0   0  21 205 124 210 141 233 124 213 138 238 156 223 133 240 150 225\n",
      " 130 244 147 229 124 208 137 231 121 213 133 234 150 220 128 240 147 223\n",
      " 124 203 136 225 120 206 133 230 150 214 128 232 146 218 125 238 142 222\n",
      " 120 203 133 224 117 206 129 228 146 214 123 232 142 217 120 198 132 219\n",
      " 117 202 130 225 146 208 124 227 143 212 121 231 139 216 117 197 129 219\n",
      " 114 202 124 222 142 209 120 226 139 212]\n",
      "[   0.   21.  184.  -81.   86.  -69.   92. -109.   89.  -75.  100.  -82.\n",
      "   67.  -90.  107.  -90.   75.  -95.  114.  -97.   82. -105.   84.  -71.\n",
      "   94. -110.   92.  -80.  101.  -84.   70.  -92.  112.  -93.   76.  -99.\n",
      "   79.  -67.   89. -105.   86.  -73.   97.  -80.   64.  -86.  104.  -86.\n",
      "   72.  -93.  113.  -96.   80. -102.   83.  -70.   91. -107.   89.  -77.\n",
      "   99.  -82.   68.  -91.  109.  -90.   75.  -97.   78.  -66.   87. -102.\n",
      "   85.  -72.   95.  -79.   62.  -84.  103.  -84.   69.  -91.  110.  -92.\n",
      "   77.  -99.   80.  -68.   90. -105.   88.  -78.   98.  -80.   67.  -89.\n",
      "  106.  -87.   73.]\n"
     ]
    }
   ],
   "source": [
    "powers = pva.Channel('LASER:powers:set', pva.CA)\n",
    "powers_RBV = pva.Channel('LASER:powers', pva.CA)\n",
    "powers_RBV_proc = pva.Channel('LASER:powers.PROC', pva.CA)\n",
    "electron_trace = pva.Channel('ELECTRON-DAQ:trace', pva.PVA)\n",
    "for setpoint in [ascending, descending, spiky]:\n",
    "    reach_setpoint_faster(setpoint)\n",
    "    await_fresh_data(electron_trace)\n",
    "    print(electron_trace.get().get()['value'][0]['ushortValue'])\n",
    "    print(np.diff(np.float64(electron_trace.get().get()['value'][0]['ushortValue'])))\n",
    "    #print(electron_trace.get())"
   ]
  },
  {
   "cell_type": "code",
   "execution_count": 41,
   "id": "e31cbaca-6187-4fbf-923d-ac25e9e4d3a9",
   "metadata": {},
   "outputs": [
    {
     "data": {
      "text/plain": [
       "array([  0,   0,  21, 205, 124, 210, 141, 233, 124, 213, 138, 238, 156,\n",
       "       223, 133, 240, 150, 225, 130, 244, 147, 229, 124, 208, 137, 231,\n",
       "       121, 213, 133, 234, 150, 220, 128, 240, 147, 223, 124, 203, 136,\n",
       "       225, 120, 206, 133, 230, 150, 214, 128, 232, 146, 218, 125, 238,\n",
       "       142, 222, 120, 203, 133, 224, 117, 206, 129, 228, 146, 214, 123,\n",
       "       232, 142, 217, 120, 198, 132, 219, 117, 202, 130, 225, 146, 208,\n",
       "       124, 227, 143, 212, 121, 231, 139, 216, 117, 197, 129, 219, 114,\n",
       "       202, 124, 222, 142, 209, 120, 226, 139, 212], dtype=uint16)"
      ]
     },
     "execution_count": 41,
     "metadata": {},
     "output_type": "execute_result"
    }
   ],
   "source": [
    "electron_trace.get().get()['value'][0]['ushortValue']"
   ]
  },
  {
   "cell_type": "code",
   "execution_count": 42,
   "id": "4d97ff97-6f43-4ec3-9014-264491d74ff7",
   "metadata": {},
   "outputs": [
    {
     "name": "stdout",
     "output_type": "stream",
     "text": [
      "Function reach_setpoint_faster took 0.0197 seconds\n"
     ]
    }
   ],
   "source": [
    "reach_setpoint_faster(ascending)"
   ]
  },
  {
   "cell_type": "code",
   "execution_count": 43,
   "id": "6fedac46-8fd9-4f33-877c-e1da0f7eac31",
   "metadata": {},
   "outputs": [],
   "source": [
    "data = np.array([1.999,2.0])\n"
   ]
  },
  {
   "cell_type": "code",
   "execution_count": null,
   "id": "a4a4b15b-a153-4176-9bba-a7ded4ca04ff",
   "metadata": {},
   "outputs": [],
   "source": []
  },
  {
   "cell_type": "code",
   "execution_count": null,
   "id": "37da5554-20b4-4ce0-8d75-2c1312c93579",
   "metadata": {},
   "outputs": [],
   "source": []
  },
  {
   "cell_type": "code",
   "execution_count": null,
   "id": "2d312879-283b-450f-a0d2-5d09c7ac8b2a",
   "metadata": {},
   "outputs": [],
   "source": []
  },
  {
   "cell_type": "code",
   "execution_count": null,
   "id": "986822fa-75c2-4c5d-a5be-9423c1203f17",
   "metadata": {},
   "outputs": [],
   "source": []
  },
  {
   "cell_type": "code",
   "execution_count": null,
   "id": "bee100cb-3af0-466e-b987-45d426c58655",
   "metadata": {},
   "outputs": [],
   "source": []
  }
 ],
 "metadata": {
  "kernelspec": {
   "display_name": "Python 3 (ipykernel)",
   "language": "python",
   "name": "python3"
  },
  "language_info": {
   "codemirror_mode": {
    "name": "ipython",
    "version": 3
   },
   "file_extension": ".py",
   "mimetype": "text/x-python",
   "name": "python",
   "nbconvert_exporter": "python",
   "pygments_lexer": "ipython3",
   "version": "3.12.4"
  }
 },
 "nbformat": 4,
 "nbformat_minor": 5
}
