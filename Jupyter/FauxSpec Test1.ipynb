{
 "cells": [
  {
   "cell_type": "markdown",
   "id": "d73c363f",
   "metadata": {},
   "source": [
    "# FauxSpec Test1"
   ]
  },
  {
   "cell_type": "markdown",
   "id": "70c20f97",
   "metadata": {},
   "source": [
    "## Import necessary Python modules"
   ]
  },
  {
   "cell_type": "code",
   "execution_count": 78,
   "id": "35a0c355",
   "metadata": {},
   "outputs": [],
   "source": [
    "import numpy as np\n",
    "import epics # 'epics' is part of pyepics\n",
    "from epics import PV\n",
    "from time import sleep"
   ]
  },
  {
   "cell_type": "markdown",
   "id": "e830a37b",
   "metadata": {},
   "source": [
    "## Set up some initial variables for convenience"
   ]
  },
  {
   "cell_type": "code",
   "execution_count": 117,
   "id": "423fe87a",
   "metadata": {
    "scrolled": false
   },
   "outputs": [
    {
     "name": "stdout",
     "output_type": "stream",
     "text": [
      "DOLPHINDAQ,TeensyPulse,00,20230419\n",
      "DOLPHINDAQ,Teensy ROSIE,00,20230418\n",
      "DolphinDAQ,FauxSpec,#00,20230418\n"
     ]
    }
   ],
   "source": [
    "rosie1 = \"TEENSYROSIE:\"\n",
    "pulse1 = \"TEENSYPULSE:\"\n",
    "fauxspec1 = \"FAUXSPEC:\"\n",
    "\n",
    "print(epics.caget(pulse1 + \"info\"))\n",
    "print(epics.caget(rosie1 + \"info\"))\n",
    "print(epics.caget(\"FAUXSPEC:info\"))"
   ]
  },
  {
   "cell_type": "markdown",
   "id": "f7000ba6",
   "metadata": {},
   "source": [
    "## Set up Triggering at 5 Hz just to get oriented"
   ]
  },
  {
   "cell_type": "code",
   "execution_count": 106,
   "id": "11415dc0",
   "metadata": {},
   "outputs": [
    {
     "data": {
      "text/plain": [
       "1"
      ]
     },
     "execution_count": 106,
     "metadata": {},
     "output_type": "execute_result"
    }
   ],
   "source": [
    "epics.caput(pulse1 + \"output:enabled:set\", 1)\n",
    "epics.caput(rosie1 + \"rosie:output:enabled:set\", 1)\n",
    "epics.caput(pulse1 + \"reprate:set\", 5)\n",
    "epics.caput(rosie1 + \"trigger:decimation:set\", 1)"
   ]
  },
  {
   "cell_type": "markdown",
   "id": "992e3426",
   "metadata": {},
   "source": [
    "## Configure Pulse Generator Repetition Rate for Experiment"
   ]
  },
  {
   "cell_type": "code",
   "execution_count": 50,
   "id": "103969df",
   "metadata": {},
   "outputs": [
    {
     "data": {
      "text/plain": [
       "1"
      ]
     },
     "execution_count": 50,
     "metadata": {},
     "output_type": "execute_result"
    }
   ],
   "source": [
    "epics.caput(pulse1 + \"reprate:set\", 1)"
   ]
  },
  {
   "cell_type": "markdown",
   "id": "165a313b",
   "metadata": {},
   "source": [
    "## Reset global trigger count to zero on all devices (required once per day)"
   ]
  },
  {
   "cell_type": "code",
   "execution_count": 51,
   "id": "84e5efaa",
   "metadata": {},
   "outputs": [
    {
     "data": {
      "text/plain": [
       "1"
      ]
     },
     "execution_count": 51,
     "metadata": {},
     "output_type": "execute_result"
    }
   ],
   "source": [
    "# Disable global pulse generator trigger outputs\n",
    "epics.caput(pulse1 + \"output:enabled:set\", 0)\n",
    "sleep(2) # Todo: Wait for caget to say zero outputs enabled\n",
    "\n",
    "# Set global trigger count to zero on all devices, so they start in synchronization\n",
    "epics.caput(pulse1 + \"trigger:count:set\", 0)\n",
    "epics.caput(rosie1 + \"trigger:count:set\", 0)\n",
    "epics.caput(fauxspec1 + \"trigger:count:set\", 0)\n",
    "sleep(2) # Todo: Wait for caget to say zero trigger count everywhere\n",
    "\n",
    "# Restart global pulse generator trigger outputs\n",
    "epics.caput(pulse1 + \"output:enabled:set\", 1)"
   ]
  },
  {
   "cell_type": "markdown",
   "id": "ec503a11",
   "metadata": {},
   "source": [
    "## Configure Rosie for Camera 1, without yet enabling its outputs"
   ]
  },
  {
   "cell_type": "code",
   "execution_count": 52,
   "id": "cf76f433",
   "metadata": {},
   "outputs": [
    {
     "data": {
      "text/plain": [
       "1"
      ]
     },
     "execution_count": 52,
     "metadata": {},
     "output_type": "execute_result"
    }
   ],
   "source": [
    "# disable outputs, to get ready for a fresh start\n",
    "epics.caput(rosie1 + \"rosie:output:enabled:set\", 0)\n",
    "sleep(2)\n",
    "\n",
    "# Set decimation to 2, to take every other pulse\n",
    "epics.caput(rosie1 + \"trigger:decimation:set\", 2)"
   ]
  },
  {
   "cell_type": "markdown",
   "id": "43a1b8a9",
   "metadata": {},
   "source": [
    "## Configure Pulse Generator Delay for FauxSpec and Camera 1"
   ]
  },
  {
   "cell_type": "code",
   "execution_count": 100,
   "id": "78c2536c",
   "metadata": {},
   "outputs": [
    {
     "data": {
      "text/plain": [
       "1"
      ]
     },
     "execution_count": 100,
     "metadata": {},
     "output_type": "execute_result"
    }
   ],
   "source": [
    "epics.caput(pulse1 + \"CH1:delay:set\", 8000) # microseconds, Camera delay (80 millseconds after fauxspec delay)\n",
    "epics.caput(pulse1 + \"CH4:delay:set\", 100) # microseconds, FauxSpec delay"
   ]
  },
  {
   "cell_type": "code",
   "execution_count": 72,
   "id": "7e5a7680",
   "metadata": {},
   "outputs": [
    {
     "data": {
      "text/plain": [
       "110100.0"
      ]
     },
     "execution_count": 72,
     "metadata": {},
     "output_type": "execute_result"
    }
   ],
   "source": [
    "epics.caget(pulse1 + \"CH1:delay\")"
   ]
  },
  {
   "cell_type": "code",
   "execution_count": 122,
   "id": "1bb23593",
   "metadata": {},
   "outputs": [
    {
     "data": {
      "text/plain": [
       "1"
      ]
     },
     "execution_count": 122,
     "metadata": {},
     "output_type": "execute_result"
    }
   ],
   "source": [
    "epics.caput(pulse1 + \"CH1:delay:set\", 84000) # microseconds, Camera delay (80 millseconds after fauxspec delay)"
   ]
  },
  {
   "cell_type": "code",
   "execution_count": 123,
   "id": "bc5c8660",
   "metadata": {},
   "outputs": [
    {
     "data": {
      "text/plain": [
       "84000.0"
      ]
     },
     "execution_count": 123,
     "metadata": {},
     "output_type": "execute_result"
    }
   ],
   "source": [
    "epics.caget(pulse1 + \"CH1:delay\")"
   ]
  },
  {
   "cell_type": "code",
   "execution_count": null,
   "id": "201818e5",
   "metadata": {},
   "outputs": [],
   "source": []
  }
 ],
 "metadata": {
  "kernelspec": {
   "display_name": "Python 3",
   "language": "python",
   "name": "python3"
  },
  "language_info": {
   "codemirror_mode": {
    "name": "ipython",
    "version": 3
   },
   "file_extension": ".py",
   "mimetype": "text/x-python",
   "name": "python",
   "nbconvert_exporter": "python",
   "pygments_lexer": "ipython3",
   "version": "3.9.6"
  }
 },
 "nbformat": 4,
 "nbformat_minor": 5
}
