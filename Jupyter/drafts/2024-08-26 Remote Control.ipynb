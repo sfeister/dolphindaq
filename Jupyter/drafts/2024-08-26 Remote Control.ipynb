{
 "cells": [
  {
   "cell_type": "markdown",
   "id": "8d65545a-b9a8-472e-89d2-06c433d2be88",
   "metadata": {},
   "source": [
    "# Import Modules"
   ]
  },
  {
   "cell_type": "code",
   "execution_count": 72,
   "id": "df142470-48a4-48a0-aa39-15294be23b31",
   "metadata": {},
   "outputs": [],
   "source": [
    "import numpy as np\n",
    "import matplotlib.pyplot as plt\n",
    "\n",
    "import time\n",
    "import datetime\n",
    "from time import sleep\n",
    "\n",
    "import pvaccess as pva"
   ]
  },
  {
   "cell_type": "markdown",
   "id": "59e0eb7a-c989-4872-8d7e-34a2aa7c234b",
   "metadata": {},
   "source": [
    "## Scott Helper Fuctions"
   ]
  },
  {
   "cell_type": "markdown",
   "id": "c8774a00-121b-4173-bd30-09452de1b3cd",
   "metadata": {},
   "source": [
    "#### Timer decorator\n",
    "Code copied directly from https://dev.to/kcdchennai/python-decorator-to-measure-execution-time-54hk"
   ]
  },
  {
   "cell_type": "code",
   "execution_count": 73,
   "id": "4ce88446-bd53-416b-bd09-f259c407fb2f",
   "metadata": {},
   "outputs": [],
   "source": [
    "from functools import wraps\n",
    "import time\n",
    "\n",
    "def timeit(func):\n",
    "    @wraps(func)\n",
    "    def timeit_wrapper(*args, **kwargs):\n",
    "        start_time = time.perf_counter()\n",
    "        result = func(*args, **kwargs)\n",
    "        end_time = time.perf_counter()\n",
    "        total_time = end_time - start_time\n",
    "        #print(f'Function {func.__name__}{args} {kwargs} Took {total_time:.4f} seconds')\n",
    "        print(f'Function {func.__name__} took {total_time:.4f} seconds')\n",
    "        return result\n",
    "    return timeit_wrapper"
   ]
  },
  {
   "cell_type": "markdown",
   "id": "14d0dd7e-54df-40d5-aa38-3f0560f5c598",
   "metadata": {},
   "source": [
    "### caget and pvget\n",
    "When you need to quickly check a process variable... and all you have is pvapy"
   ]
  },
  {
   "cell_type": "code",
   "execution_count": 74,
   "id": "b0ccc90c-f925-46e3-95a9-783dbb03276f",
   "metadata": {},
   "outputs": [],
   "source": [
    "def caget(channel_name):\n",
    "    \"\"\" Channel Access get \"\"\"\n",
    "    return pva.Channel(channel_name, pva.CA).get().getPyObject()\n",
    "\n",
    "def pvget(channel_name):\n",
    "    \"\"\" PVAccess get \"\"\"\n",
    "    return pva.Channel(channel_name, pva.PVA).get().getPyObject()"
   ]
  },
  {
   "cell_type": "code",
   "execution_count": 75,
   "id": "8b49c673-af5a-408b-8283-7a0863040bd4",
   "metadata": {},
   "outputs": [
    {
     "data": {
      "text/plain": [
       "'DOLPHINDAQ,TeensyPulse,00,20240807'"
      ]
     },
     "execution_count": 75,
     "metadata": {},
     "output_type": "execute_result"
    }
   ],
   "source": [
    "caget(\"PULSEGEN:info\")"
   ]
  },
  {
   "cell_type": "code",
   "execution_count": 76,
   "id": "e9a964c0-8b79-4b25-8877-687caf2e4892",
   "metadata": {},
   "outputs": [
    {
     "data": {
      "text/plain": [
       "'Diode Teensy-Serial PVA Server, 20240724'"
      ]
     },
     "execution_count": 76,
     "metadata": {},
     "output_type": "execute_result"
    }
   ],
   "source": [
    "pvget(\"ELECTRON-DAQ:info\")"
   ]
  },
  {
   "cell_type": "markdown",
   "id": "b2a37518-aecc-495f-bbd3-3f28fd036a74",
   "metadata": {},
   "source": [
    "## EPICS Functions"
   ]
  },
  {
   "cell_type": "code",
   "execution_count": 77,
   "id": "1056f1f6-a492-456d-8426-7f078c9349de",
   "metadata": {},
   "outputs": [],
   "source": []
  },
  {
   "cell_type": "markdown",
   "id": "567ab863-45e6-4b83-a5b1-6d89f90969e4",
   "metadata": {},
   "source": [
    "## System Configuration"
   ]
  },
  {
   "cell_type": "markdown",
   "id": "4b1888c5-c88c-4ca3-8738-1efb2b801dd4",
   "metadata": {},
   "source": [
    "### Basic settings like repetition rate"
   ]
  },
  {
   "cell_type": "code",
   "execution_count": 158,
   "id": "4f6aa727-30c4-42f4-9f51-3140c54d9154",
   "metadata": {},
   "outputs": [],
   "source": [
    "proton_dt = pva.Channel(\"PROTON:dt:set\", pva.CA)\n",
    "electron_dt = pva.Channel(\"ELECTRON:dt:set\", pva.CA)\n",
    "laser_dt = pva.Channel(\"LASER:powers:dt:set\", pva.CA)\n",
    "pulse_rep = pva.Channel(\"PULSEGEN:reprate:set\", pva.CA)\n",
    "\n",
    "proton_dt.put(5.0e-6) # seconds\n",
    "electron_dt.put(5.0e-6) # seconds\n",
    "laser_dt.put(5) # microseconds\n",
    "pulse_rep.put(50) # Hz"
   ]
  },
  {
   "cell_type": "markdown",
   "id": "bc91ea1d-9e16-4475-97b3-22f1a0dd0b6f",
   "metadata": {},
   "source": [
    "#### PVAccess and Channel Access Variables"
   ]
  },
  {
   "cell_type": "code",
   "execution_count": 80,
   "id": "b4ad37dd-1de1-44c3-930e-cab591444c28",
   "metadata": {},
   "outputs": [],
   "source": [
    "powers_set_CA= pva.Channel(\"LASER:powers:set\", pva.CA)\n",
    "powers_RBV_CA = pva.Channel(\"LASER:powers\", pva.CA) # readback value\n",
    "powers_RBV_PROC_CA = pva.Channel(\"LASER:powers.PROC\", pva.CA) # force readback value record to process\n",
    "etrace_PVA = pva.Channel(\"ELECTRON-DAQ:trace\", pva.PVA)\n",
    "ptrace_PVA = pva.Channel(\"PROTON-DAQ:trace\", pva.PVA)\n",
    "etrig_CA = pva.Channel(\"ELECTRON:trigger:count\", pva.CA)\n",
    "etrig_PROC_CA = pva.Channel(\"ELECTRON:trigger:count.PROC\", pva.CA)"
   ]
  },
  {
   "cell_type": "code",
   "execution_count": 161,
   "id": "3a178d93-68eb-422a-9785-8f65b3701f3e",
   "metadata": {},
   "outputs": [],
   "source": [
    "def synchronous_goto_setpoint(setpoint, setter_CA, getter_CA, getter_PROC_CA, sleep_secs=0.01):\n",
    "    \"\"\" Set channel and then block until the readback channel's value (scalar array) exactly matches the setpoint value (scalar array) \"\"\"\n",
    "    assert(isinstance(setpoint, np.ndarray))\n",
    "    assert(isinstance(setter_CA, pva.pvaccess.Channel))\n",
    "    assert(isinstance(getter_CA, pva.pvaccess.Channel))\n",
    "    assert(isinstance(getter_PROC_CA, pva.pvaccess.Channel))\n",
    "    assert(getter_PROC_CA.getName().endswith(\".PROC\"))\n",
    "           \n",
    "    setter_CA.putScalarArray(list(setpoint))\n",
    "    while not np.array_equal(setter_CA.get().getScalarArray(), getter_CA.get().getScalarArray()): # compare our setpoint with our RBV\n",
    "        getter_PROC_CA.put(1) # force immediate processing of the readback value record\n",
    "        sleep(sleep_secs) # delay a moment before requesting another check\n",
    "        \n",
    "def get_synchronous_trigger_count(trig_CA, trig_PROC_CA):\n",
    "    \"\"\"Get the current trigger count from a device, forcing completed processing of the request before retrieval of the value\"\"\"    \n",
    "    trig_PROC_CA.put(1) # force processing\n",
    "    while trig_PROC_CA.get().get()['value'] == '\\x01':  # ensure value is done being processed\n",
    "        sleep(0.001)\n",
    "    return np.int64(trig_CA.get().get()['value']) # get the most up-to-date trigger count\n",
    "    \n",
    "    \n",
    "def await_synchronous_data(data_PVA, minimum_uniqueId):\n",
    "    \"\"\"Await a new set of data with uniqueId greater than the specified uniqueId\"\"\"    \n",
    "    while True:\n",
    "        pvobj = data_PVA.get('field(uniqueId)')\n",
    "        uniqueId = pvobj[\"uniqueId\"]\n",
    "        # print(uniqueId) # DEBUG\n",
    "        if uniqueId > minimum_uniqueId:\n",
    "            break\n",
    "        sleep(0.005)\n",
    "        \n",
    "@timeit\n",
    "def realpulse(pulse, powers_set_CA=powers_set_CA, powers_RBV_CA=powers_RBV_CA, \n",
    "                powers_RBV_PROC_CA=powers_RBV_PROC_CA, etrace_PVA=etrace_PVA, \n",
    "                ptrace_PVA=ptrace_PVA, trig_CA=etrig_CA, trig_PROC_CA=etrig_PROC_CA):\n",
    "    \"\"\" Real laser pulse and its response\n",
    "    Inputs:\n",
    "        pulse   1D NumPy Double array of 100 points - the desired pulse, from 0 to 255\n",
    "        powers_set_CA   Channel object referring to 'LASER:powers:set' (Channel Access)\n",
    "        powers_RBV_CA   Channel object referring to 'LASER:powers' (Channel Access)\n",
    "        powers_RBV_PROC_CA Channel object referring to 'LASER:powers.PROC' (Channel Access - allows us to initiate PV processing)\n",
    "        etrace_PVA     Channel object referring to 'ELECTRON-DAQ:trace' (PVAccess)\n",
    "        ptrace_PVA     Channel object referring to 'ELECTRON-DAQ:trace' (PVAccess)\n",
    "        trig_CA        Channel object referring to an official source of truth on the global trigger count (Channel Access)\n",
    "        trig_PROC_CA     Channel object referring to the \".PROC\" field of an official source of truth on the global trigger count (Channel Access)\n",
    "    \"\"\"\n",
    "\n",
    "    # Data validity checks\n",
    "    assert(isinstance(pulse, np.ndarray))\n",
    "    assert(np.ndim(pulse) == 1)\n",
    "    assert(len(pulse) == 100)\n",
    "    assert(np.max(pulse) <= 255)\n",
    "    assert(np.min(pulse) >= 0)\n",
    "    if (np.count_nonzero(pulse - pulse.round() > 0)):\n",
    "        raise Exception(\"Pulse array contains fractional values (should be only integers, from 0 to 255).\")\n",
    "\n",
    "    # Data type conversion to uint8\n",
    "    pulse_uint8 = np.uint8(pulse)\n",
    "\n",
    "    # Set the pulse values (blocking)\n",
    "    synchronous_goto_setpoint(setpoint=pulse_uint8, setter_CA=powers_set_CA, getter_CA=powers_RBV_CA, getter_PROC_CA=powers_RBV_PROC_CA)\n",
    "    minimum_shot_ID = get_synchronous_trigger_count(trig_CA, trig_PROC_CA)\n",
    "    \n",
    "    await_synchronous_data(etrace_PVA, minimum_shot_ID)\n",
    "    await_synchronous_data(ptrace_PVA, minimum_shot_ID)\n",
    "\n",
    "    electrons = etrace_PVA.get().get()['value'][0]['ushortValue']\n",
    "    protons = ptrace_PVA.get().get()['value'][0]['ushortValue']\n",
    "    \n",
    "    return electrons, protons, pulse_uint8"
   ]
  },
  {
   "cell_type": "code",
   "execution_count": 145,
   "id": "718b78db-8868-4adf-bfe8-9eca133fd1f7",
   "metadata": {},
   "outputs": [],
   "source": [
    "def realpulse_OLD(pulse, powers_set_CA=powers_set_CA, powers_RBV_CA=powers_RBV_CA, \n",
    "                powers_RBV_PROC_CA=powers_RBV_PROC_CA, etrace_PVA=etrace_PVA, \n",
    "                ptrace_PVA=ptrace_PVA, extra_delay_secs=0):\n",
    "    \"\"\" Real laser pulse and its response\n",
    "    Inputs:\n",
    "        pulse   1D NumPy Double array of 100 points - the desired pulse, from 0 to 255\n",
    "        powers_set_CA   Channel object referring to 'LASER:powers:set' (Channel Access)\n",
    "        powers_RBV_CA   Channel object referring to 'LASER:powers' (Channel Access)\n",
    "        powers_RBV_PROC_CA Channel object referring to 'LASER:powers.PROC' (Channel Access - allows us to initiate PV processing)\n",
    "        etrace_PVA     Channel object referring to 'ELECTRON-DAQ:trace' (PVAccess)\n",
    "        ptrace_PVA     Channel object referring to 'ELECTRON-DAQ:trace' (PVAccess)\n",
    "        \"\"\"\n",
    "\n",
    "    # Data validity checks\n",
    "    assert(isinstance(pulse, np.ndarray))\n",
    "    assert(np.ndim(pulse) == 1)\n",
    "    assert(len(pulse) == 100)\n",
    "    assert(np.max(pulse) <= 255)\n",
    "    assert(np.min(pulse) >= 0)\n",
    "    if (np.count_nonzero(pulse - pulse.round() > 0)):\n",
    "        raise Exception(\"Pulse array contains fractional values (should be only integers, from 0 to 255).\")\n",
    "\n",
    "    # Data type conversion to uint8\n",
    "    pulse_uint8 = np.uint8(pulse)\n",
    "\n",
    "    # Set the pulse values (blocking)\n",
    "    reach_setpoint(setpoint=pulse_uint8, setter_CA=powers_set_CA, getter_CA=powers_RBV_CA, getter_PROC_CA=powers_RBV_PROC_CA)\n",
    "\n",
    "    if extra_delay_secs > 0:\n",
    "        sleep(extra_delay_secs) # NTP jitter allowance / USB data pipeline buffer allowance / etc.\n",
    "        \n",
    "    now = datetime.datetime.now() # timestamp that must be surpassed in the data before continuing\n",
    "    await_fresh_data(etrace_PVA, minimum_timestamp=now)\n",
    "    await_fresh_data(ptrace_PVA, minimum_timestamp=now)\n",
    "\n",
    "    electrons = etrace_PVA.get().get()['value'][0]['ushortValue']\n",
    "    protons = ptrace_PVA.get().get()['value'][0]['ushortValue']\n",
    "    \n",
    "    return electrons, protons, pulse_uint8\n",
    "\n",
    "def await_fresh_data(channel, minimum_timestamp=None):\n",
    "    \"\"\"Await a new set of data with timestamp after the current time (relies on precision clock synchronization)\"\"\"    \n",
    "    if minimum_timestamp is None:\n",
    "        minimum_timestamp = datetime.datetime.now() # timestamp that must be surpassed in the data before continuing\n",
    "\n",
    "    while True:\n",
    "        pvobj = channel.get('field(timeStamp)')\n",
    "        pvtimestamp = datetime.datetime.fromtimestamp(pvobj[\"timeStamp\"][\"secondsPastEpoch\"] + pvobj[\"timeStamp\"][\"nanoseconds\"]*1e-9)\n",
    "        # print(pvtimestamp) # DEBUG\n",
    "        if pvtimestamp > minimum_timestamp:\n",
    "            break\n",
    "        sleep(0.005)"
   ]
  },
  {
   "cell_type": "markdown",
   "id": "04e6c965-5dab-4e55-8f4f-2c4957426bd2",
   "metadata": {},
   "source": [
    "## Do some tests"
   ]
  },
  {
   "cell_type": "code",
   "execution_count": 133,
   "id": "bf21dbdf-6eeb-44b4-ad1c-c9070733a723",
   "metadata": {},
   "outputs": [],
   "source": [
    "ascending = np.uint8(np.linspace(0, 255, 100))\n",
    "descending = np.uint8(np.linspace(255, 0, 100))\n",
    "spiky = np.uint8(np.tile([0,255], 50))"
   ]
  },
  {
   "cell_type": "code",
   "execution_count": 136,
   "id": "d8fe8c77-ae27-4c6c-bf45-8c8b03dd1cf6",
   "metadata": {},
   "outputs": [],
   "source": [
    "def mymetric(myarray):\n",
    "    return np.mean(np.diff(np.float64(myarray[5:-5])))\n",
    "\n",
    "@timeit\n",
    "def run_test():\n",
    "    for i in range(10):\n",
    "        for setpoint, label in zip([ascending, descending, spiky], [\"ascending\", \"descending\", \"spiky\"]):\n",
    "            electrons, protons, pulse_uint8 = realpulse(setpoint);\n",
    "            #print(\"\\t\\t\\t\\t\\t\\t{:>10}: {:06.2f}, {:06.2f}, {:06.2f}\".format(label, mymetric(electrons), mymetric(protons), mymetric(pulse_uint8)))\n",
    "    "
   ]
  },
  {
   "cell_type": "code",
   "execution_count": 159,
   "id": "6d1d36a5-04e5-4722-b555-9356ee716908",
   "metadata": {},
   "outputs": [
    {
     "name": "stdout",
     "output_type": "stream",
     "text": [
      "Function realpulse took 0.1352 seconds\n",
      "Function realpulse took 0.0990 seconds\n",
      "Function realpulse took 0.0974 seconds\n",
      "Function realpulse took 0.0890 seconds\n",
      "Function realpulse took 0.0819 seconds\n",
      "Function realpulse took 0.0790 seconds\n",
      "Function realpulse took 0.0993 seconds\n",
      "Function realpulse took 0.0921 seconds\n",
      "Function realpulse took 0.0720 seconds\n",
      "Function realpulse took 0.0782 seconds\n",
      "Function realpulse took 0.0869 seconds\n",
      "Function realpulse took 0.1328 seconds\n",
      "Function realpulse took 0.1366 seconds\n",
      "Function realpulse took 0.0995 seconds\n",
      "Function realpulse took 0.0989 seconds\n",
      "Function realpulse took 0.0892 seconds\n",
      "Function realpulse took 0.0761 seconds\n",
      "Function realpulse took 0.0927 seconds\n",
      "Function realpulse took 0.0841 seconds\n",
      "Function realpulse took 0.0848 seconds\n",
      "Function realpulse took 0.0787 seconds\n",
      "Function realpulse took 0.1532 seconds\n",
      "Function realpulse took 0.1084 seconds\n",
      "Function realpulse took 0.0945 seconds\n",
      "Function realpulse took 0.0848 seconds\n",
      "Function realpulse took 0.0959 seconds\n",
      "Function realpulse took 0.1142 seconds\n",
      "Function realpulse took 0.0930 seconds\n",
      "Function realpulse took 0.0815 seconds\n",
      "Function realpulse took 0.0907 seconds\n",
      "Function run_test took 2.9025 seconds\n"
     ]
    }
   ],
   "source": [
    "run_test()"
   ]
  },
  {
   "cell_type": "code",
   "execution_count": 92,
   "id": "9faa8630-3df0-4a63-b757-8f8005ef820c",
   "metadata": {},
   "outputs": [],
   "source": [
    "# 3 seconds, 30 datapoints ===> Synchronous control loop at 10 Hz"
   ]
  },
  {
   "cell_type": "markdown",
   "id": "c074a588-8a68-4c91-b33f-c29aef9ea9bc",
   "metadata": {},
   "source": [
    "### Non-timing tests"
   ]
  },
  {
   "cell_type": "code",
   "execution_count": 160,
   "id": "6f4210e4-468b-4956-b409-7bd7b1ede49f",
   "metadata": {},
   "outputs": [
    {
     "name": "stdout",
     "output_type": "stream",
     "text": [
      "Function realpulse took 0.1134 seconds\n",
      "Function realpulse took 0.0980 seconds\n"
     ]
    },
    {
     "data": {
      "text/plain": [
       "<matplotlib.legend.Legend at 0x248b7e6b260>"
      ]
     },
     "execution_count": 160,
     "metadata": {},
     "output_type": "execute_result"
    },
    {
     "data": {
      "image/png": "[encoded data removed]",
      "text/plain": [
       "<Figure size 640x480 with 1 Axes>"
      ]
     },
     "metadata": {},
     "output_type": "display_data"
    }
   ],
   "source": [
    "# test pulse \n",
    "pulse_descent = np.round(np.linspace(1, 0, 100)*100)\n",
    "pulse_ascent = np.round(np.linspace(0, 1, 100)*100)\n",
    "elecs1, prots1, pulse1 = realpulse(pulse_descent)\n",
    "elecs2, prots2, pulse2 = realpulse(pulse_ascent)\n",
    "\n",
    "plt.plot(elecs1, label=\"Electrons, Descending\", c='g')\n",
    "plt.plot(elecs2, '--', label=\"Electrons, Ascending\", c='g')\n",
    "plt.plot(prots1, label=\"Protons, Descending\", c='b')\n",
    "plt.plot(prots2, '--', label=\"Protons, Descending\", c='b')\n",
    "plt.plot(pulse1, label=\"Laser, Descending (Setpoint)\", c='r')\n",
    "plt.plot(pulse2, '--', label=\"Laser, Ascending (Setpoint)\", c='r')\n",
    "plt.ylabel(\"Electron Response (ADC Units)\")\n",
    "plt.xlabel(\"Time\")\n",
    "plt.legend()"
   ]
  },
  {
   "cell_type": "code",
   "execution_count": 154,
   "id": "37232230-d0bd-4763-b4c1-6b1854a9ac3f",
   "metadata": {},
   "outputs": [
    {
     "name": "stdout",
     "output_type": "stream",
     "text": [
      "Function realpulse took 0.0973 seconds\n",
      "Function realpulse took 0.0737 seconds\n"
     ]
    },
    {
     "data": {
      "text/plain": [
       "[<matplotlib.lines.Line2D at 0x248b8bee900>]"
      ]
     },
     "execution_count": 154,
     "metadata": {},
     "output_type": "execute_result"
    },
    {
     "data": {
      "image/png": "[encoded data removed]",
      "text/plain": [
       "<Figure size 640x480 with 1 Axes>"
      ]
     },
     "metadata": {},
     "output_type": "display_data"
    }
   ],
   "source": [
    "elecs1, prots1, pulse1 = realpulse(pulse_descent)\n",
    "plt.plot(elecs1, label=\"Electrons, Descending\", c='g')\n",
    "\n",
    "elecs2, prots2, pulse2 = realpulse(pulse_ascent)\n",
    "plt.plot(elecs2, '--', label=\"Electrons, Ascending\", c='g')"
   ]
  },
  {
   "cell_type": "code",
   "execution_count": 21,
   "id": "f4253d59-cd6d-41e8-be29-3f7ab938dacb",
   "metadata": {},
   "outputs": [
    {
     "data": {
      "text/plain": [
       "array([ 0.,  1.,  1.,  2.,  2.,  3.,  3.,  4.,  4.,  5.,  5.,  6.,  6.,\n",
       "        7.,  7.,  8.,  8.,  9.,  9., 10., 10., 11., 11., 12., 12., 13.,\n",
       "       13., 14., 14., 15., 15., 16., 16., 17., 17., 18., 18., 19., 19.,\n",
       "       20., 20., 21., 21., 22., 22., 23., 23., 24., 24., 25., 25., 26.,\n",
       "       26., 27., 27., 28., 28., 29., 29., 30., 30., 31., 31., 32., 32.,\n",
       "       33., 33., 34., 34., 35., 35., 36., 36., 37., 37., 38., 38., 39.,\n",
       "       39., 40., 40., 41., 41., 42., 42., 43., 43., 44., 44., 45., 45.,\n",
       "       46., 46., 47., 47., 48., 48., 49., 49., 50.])"
      ]
     },
     "execution_count": 21,
     "metadata": {},
     "output_type": "execute_result"
    }
   ],
   "source": []
  },
  {
   "cell_type": "code",
   "execution_count": 115,
   "id": "92745258-9e34-4173-97a8-9038c61e1d4d",
   "metadata": {},
   "outputs": [
    {
     "name": "stdout",
     "output_type": "stream",
     "text": [
      "Waiting...\n",
      "-1\n",
      "Waiting...\n",
      "-1\n",
      "Waiting...\n",
      "Waiting...\n",
      "-1\n",
      "Waiting...\n",
      "-1\n",
      "Waiting...\n",
      "-1\n",
      "-1\n",
      "-1\n",
      "-1\n",
      "-1\n",
      "-1\n",
      "-1\n",
      "-1\n",
      "-1\n",
      "-1\n",
      "-1\n",
      "-1\n",
      "-1\n",
      "-2\n",
      "-1\n",
      "-1\n",
      "Waiting...\n",
      "Waiting...\n",
      "Waiting...\n",
      "Waiting...\n",
      "-1\n",
      "Waiting...\n",
      "-2\n",
      "Waiting...\n",
      "-1\n",
      "Waiting...\n",
      "Waiting...\n",
      "-1\n",
      "Waiting...\n",
      "Waiting...\n",
      "-1\n",
      "-1\n",
      "Waiting...\n",
      "Waiting...\n",
      "-1\n",
      "-1\n",
      "Waiting...\n",
      "-1\n",
      "-1\n",
      "-1\n",
      "-1\n",
      "-1\n",
      "-1\n",
      "-1\n",
      "-1\n",
      "-1\n",
      "-1\n",
      "-1\n",
      "-1\n",
      "-1\n",
      "-1\n",
      "Waiting...\n",
      "Waiting...\n",
      "-1\n",
      "Waiting...\n",
      "-1\n",
      "Waiting...\n",
      "Waiting...\n",
      "-1\n",
      "Waiting...\n",
      "-1\n",
      "Waiting...\n",
      "-2\n",
      "Waiting...\n",
      "-2\n",
      "Waiting...\n",
      "-1\n",
      "-1\n",
      "-1\n",
      "-1\n",
      "-1\n",
      "-1\n",
      "-1\n",
      "-1\n",
      "-1\n",
      "-1\n",
      "-1\n",
      "-1\n",
      "-1\n",
      "-1\n",
      "-1\n",
      "-1\n",
      "-1\n",
      "Waiting...\n",
      "Waiting...\n",
      "Waiting...\n",
      "-1\n",
      "Waiting...\n",
      "-1\n",
      "Waiting...\n",
      "-2\n",
      "Waiting...\n",
      "Waiting...\n",
      "Waiting...\n",
      "-1\n",
      "Waiting...\n",
      "-1\n",
      "Waiting...\n",
      "-1\n",
      "Waiting...\n",
      "Waiting...\n",
      "Waiting...\n",
      "-1\n",
      "-1\n",
      "Waiting...\n",
      "-1\n",
      "-1\n",
      "-1\n",
      "-1\n",
      "-1\n",
      "-1\n",
      "-1\n",
      "-1\n",
      "-1\n",
      "-1\n",
      "-1\n",
      "-1\n",
      "-1\n",
      "-1\n",
      "-1\n",
      "Waiting...\n",
      "Waiting...\n",
      "Waiting...\n",
      "-1\n",
      "Waiting...\n",
      "-2\n",
      "Waiting...\n",
      "-1\n",
      "Waiting...\n",
      "-1\n",
      "Waiting...\n",
      "-1\n",
      "Waiting...\n",
      "-1\n",
      "Waiting...\n",
      "-1\n",
      "Waiting...\n",
      "-1\n",
      "Waiting...\n",
      "Waiting...\n",
      "-1\n",
      "-1\n",
      "Waiting...\n",
      "-1\n",
      "-1\n"
     ]
    }
   ],
   "source": [
    "for i in range(100):\n",
    "    etrig_PROC_CA.put(1)\n",
    "    while etrig_PROC_CA.get().get()['value'] == '\\x01':\n",
    "        sleep(0.001)\n",
    "        print(\"Waiting...\")\n",
    "    trig_actual = np.int64(etrig_CA.get().get()['value'])\n",
    "\n",
    "    while True:\n",
    "        trig_data = etrace_PVA.get('field(uniqueId)').get()[\"uniqueId\"]\n",
    "        if trig_data > trig_actual:\n",
    "            break\n",
    "    print(trig_actual - trig_data)"
   ]
  },
  {
   "cell_type": "code",
   "execution_count": 64,
   "id": "5ce621cf-9f8b-4216-a558-c6b1a39f4cda",
   "metadata": {},
   "outputs": [
    {
     "data": {
      "text/plain": [
       "1685326"
      ]
     },
     "execution_count": 64,
     "metadata": {},
     "output_type": "execute_result"
    }
   ],
   "source": []
  },
  {
   "cell_type": "code",
   "execution_count": 111,
   "id": "f597d0ac-d410-469e-a715-7d9629fe4e93",
   "metadata": {},
   "outputs": [],
   "source": [
    "etrig_PROC_CA.put(1) # force immediate processing of the readback value record"
   ]
  },
  {
   "cell_type": "code",
   "execution_count": 122,
   "id": "4b2439b6-f1bf-483c-8821-c44744d5fe14",
   "metadata": {},
   "outputs": [],
   "source": [
    "\n"
   ]
  },
  {
   "cell_type": "code",
   "execution_count": 123,
   "id": "48c937e6-c001-449e-96f5-f1206f78bbc6",
   "metadata": {},
   "outputs": [],
   "source": [
    "minimum_shot_ID = get_synchronous_trigger_count(etrig_CA, etrig_PROC_CA)\n",
    "await_synchronous_data(etrace_PVA, minimum_shot_ID)\n",
    "await_synchronous_data(ptrace_PVA, minimum_shot_ID)"
   ]
  },
  {
   "cell_type": "code",
   "execution_count": 124,
   "id": "ada1df69-660c-4589-9981-93cc878b3464",
   "metadata": {},
   "outputs": [],
   "source": []
  },
  {
   "cell_type": "code",
   "execution_count": null,
   "id": "612b1fe7-486c-4e3d-84ed-995e9d9ae3c9",
   "metadata": {},
   "outputs": [],
   "source": []
  }
 ],
 "metadata": {
  "kernelspec": {
   "display_name": "Python 3 (ipykernel)",
   "language": "python",
   "name": "python3"
  },
  "language_info": {
   "codemirror_mode": {
    "name": "ipython",
    "version": 3
   },
   "file_extension": ".py",
   "mimetype": "text/x-python",
   "name": "python",
   "nbconvert_exporter": "python",
   "pygments_lexer": "ipython3",
   "version": "3.8.17"
  }
 },
 "nbformat": 4,
 "nbformat_minor": 5
}
