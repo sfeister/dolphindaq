{
 "cells": [
  {
   "cell_type": "markdown",
   "id": "1df9d057",
   "metadata": {},
   "source": [
    "# FauxSpec Test1"
   ]
  },
  {
   "cell_type": "markdown",
   "id": "00dc014e",
   "metadata": {},
   "source": [
    "## Import necessary Python modules"
   ]
  },
  {
   "cell_type": "code",
   "execution_count": 48,
   "id": "e472bb0c",
   "metadata": {},
   "outputs": [],
   "source": [
    "import numpy as np\n",
    "import epics # 'epics' is part of pyepics\n",
    "from epics import PV\n",
    "from time import sleep"
   ]
  },
  {
   "cell_type": "markdown",
   "id": "6adea018",
   "metadata": {},
   "source": [
    "## Set up some initial variables for convenience"
   ]
  },
  {
   "cell_type": "code",
   "execution_count": 49,
   "id": "ca9f12f9",
   "metadata": {
    "scrolled": false
   },
   "outputs": [
    {
     "name": "stdout",
     "output_type": "stream",
     "text": [
      "\n",
      "\n",
      "DolphinDAQ,FauxSpec,#00,20230418\n"
     ]
    }
   ],
   "source": [
    "rosie1 = \"TEENSYROSIE:\"\n",
    "pulse1 = \"TEENSYPULSE:\"\n",
    "fauxspec1 = \"FAUXSPEC:\"\n",
    "\n",
    "print(epics.caget(pulse1 + \"info\"))\n",
    "print(epics.caget(rosie1 + \"info\"))\n",
    "print(epics.caget(\"FAUXSPEC:info\"))"
   ]
  },
  {
   "cell_type": "markdown",
   "id": "3a10ffea",
   "metadata": {},
   "source": [
    "## Set up Triggering at 5 Hz just to get oriented"
   ]
  },
  {
   "cell_type": "code",
   "execution_count": 75,
   "id": "bb985be0",
   "metadata": {},
   "outputs": [
    {
     "data": {
      "text/plain": [
       "1"
      ]
     },
     "execution_count": 75,
     "metadata": {},
     "output_type": "execute_result"
    }
   ],
   "source": [
    "epics.caput(pulse1 + \"output:enabled:set\", 1)\n",
    "epics.caput(rosie1 + \"rosie:output:enabled:set\", 1)\n",
    "epics.caput(pulse1 + \"reprate:set\", 5)\n",
    "epics.caput(rosie1 + \"trigger:decimation:set\", 1)"
   ]
  },
  {
   "cell_type": "markdown",
   "id": "34728f10",
   "metadata": {},
   "source": [
    "## Configure Pulse Generator Repetition Rate for Experiment"
   ]
  },
  {
   "cell_type": "code",
   "execution_count": 50,
   "id": "c86a50dc",
   "metadata": {},
   "outputs": [
    {
     "data": {
      "text/plain": [
       "1"
      ]
     },
     "execution_count": 50,
     "metadata": {},
     "output_type": "execute_result"
    }
   ],
   "source": [
    "epics.caput(pulse1 + \"reprate:set\", 1)"
   ]
  },
  {
   "cell_type": "markdown",
   "id": "6b936d74",
   "metadata": {},
   "source": [
    "## Reset global trigger count to zero on all devices (required once per day)"
   ]
  },
  {
   "cell_type": "code",
   "execution_count": 51,
   "id": "46dafada",
   "metadata": {},
   "outputs": [
    {
     "data": {
      "text/plain": [
       "1"
      ]
     },
     "execution_count": 51,
     "metadata": {},
     "output_type": "execute_result"
    }
   ],
   "source": [
    "# Disable global pulse generator trigger outputs\n",
    "epics.caput(pulse1 + \"output:enabled:set\", 0)\n",
    "sleep(2) # Todo: Wait for caget to say zero outputs enabled\n",
    "\n",
    "# Set global trigger count to zero on all devices, so they start in synchronization\n",
    "epics.caput(pulse1 + \"trigger:count:set\", 0)\n",
    "epics.caput(rosie1 + \"trigger:count:set\", 0)\n",
    "epics.caput(fauxspec1 + \"trigger:count:set\", 0)\n",
    "sleep(2) # Todo: Wait for caget to say zero trigger count everywhere\n",
    "\n",
    "# Restart global pulse generator trigger outputs\n",
    "epics.caput(pulse1 + \"output:enabled:set\", 1)"
   ]
  },
  {
   "cell_type": "markdown",
   "id": "d4174a30",
   "metadata": {},
   "source": [
    "## Configure Rosie for Camera 1, without yet enabling its outputs"
   ]
  },
  {
   "cell_type": "code",
   "execution_count": 52,
   "id": "1f5663e8",
   "metadata": {},
   "outputs": [
    {
     "data": {
      "text/plain": [
       "1"
      ]
     },
     "execution_count": 52,
     "metadata": {},
     "output_type": "execute_result"
    }
   ],
   "source": [
    "# disable outputs, to get ready for a fresh start\n",
    "epics.caput(rosie1 + \"rosie:output:enabled:set\", 0)\n",
    "sleep(2)\n",
    "\n",
    "# Set decimation to 2, to take every other pulse\n",
    "epics.caput(rosie1 + \"trigger:decimation:set\", 2)"
   ]
  },
  {
   "cell_type": "markdown",
   "id": "3a20a2d4",
   "metadata": {},
   "source": [
    "## Configure Pulse Generator Delay for FauxSpec and Camera 1"
   ]
  },
  {
   "cell_type": "code",
   "execution_count": 74,
   "id": "4a849749",
   "metadata": {},
   "outputs": [
    {
     "data": {
      "text/plain": [
       "1"
      ]
     },
     "execution_count": 74,
     "metadata": {},
     "output_type": "execute_result"
    }
   ],
   "source": [
    "epics.caput(pulse1 + \"CH1:delay:set\", 100) # microseconds, Camera delay (80 millseconds after fauxspec delay)\n",
    "epics.caput(pulse1 + \"CH4:delay:set\", 100) # microseconds, FauxSpec delay"
   ]
  },
  {
   "cell_type": "code",
   "execution_count": 72,
   "id": "417faa2d",
   "metadata": {},
   "outputs": [
    {
     "data": {
      "text/plain": [
       "110100.0"
      ]
     },
     "execution_count": 72,
     "metadata": {},
     "output_type": "execute_result"
    }
   ],
   "source": [
    "epics.caget(pulse1 + \"CH1:delay\")"
   ]
  },
  {
   "cell_type": "code",
   "execution_count": null,
   "id": "cddfeb3b",
   "metadata": {},
   "outputs": [],
   "source": []
  }
 ],
 "metadata": {
  "kernelspec": {
   "display_name": "Python 3",
   "language": "python",
   "name": "python3"
  },
  "language_info": {
   "codemirror_mode": {
    "name": "ipython",
    "version": 3
   },
   "file_extension": ".py",
   "mimetype": "text/x-python",
   "name": "python",
   "nbconvert_exporter": "python",
   "pygments_lexer": "ipython3",
   "version": "3.9.6"
  }
 },
 "nbformat": 4,
 "nbformat_minor": 5
}
