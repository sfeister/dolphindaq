{
 "cells": [
  {
   "cell_type": "markdown",
   "id": "77674f3a",
   "metadata": {},
   "source": [
    "# FauxSpec Test1"
   ]
  },
  {
   "cell_type": "markdown",
   "id": "c43ecffb",
   "metadata": {},
   "source": [
    "## Import necessary Python modules"
   ]
  },
  {
   "cell_type": "code",
   "execution_count": 78,
   "id": "7d39d4ab",
   "metadata": {},
   "outputs": [],
   "source": [
    "import numpy as np\n",
    "import epics # 'epics' is part of pyepics\n",
    "from epics import PV\n",
    "from time import sleep"
   ]
  },
  {
   "cell_type": "markdown",
   "id": "69a7a0a8",
   "metadata": {},
   "source": [
    "## Set up some initial variables for convenience"
   ]
  },
  {
   "cell_type": "code",
   "execution_count": 124,
   "id": "ff4ce811",
   "metadata": {
    "scrolled": false
   },
   "outputs": [
    {
     "name": "stdout",
     "output_type": "stream",
     "text": [
      "DOLPHINDAQ,TeensyPulse,00,20230419\n",
      "DOLPHINDAQ,Teensy ROSIE,00,20230418\n",
      "DolphinDAQ,FauxSpec,#00,20230418\n"
     ]
    }
   ],
   "source": [
    "rosie1 = \"TEENSYROSIE:\"\n",
    "pulse1 = \"TEENSYPULSE:\"\n",
    "fauxspec1 = \"FAUXSPEC:\"\n",
    "\n",
    "print(epics.caget(pulse1 + \"info\"))\n",
    "print(epics.caget(rosie1 + \"info\"))\n",
    "print(epics.caget(\"FAUXSPEC:info\"))"
   ]
  },
  {
   "cell_type": "markdown",
   "id": "39392461",
   "metadata": {},
   "source": [
    "## Set up Triggering at 5 Hz just to get oriented"
   ]
  },
  {
   "cell_type": "code",
   "execution_count": 138,
   "id": "99c90862",
   "metadata": {},
   "outputs": [
    {
     "data": {
      "text/plain": [
       "1"
      ]
     },
     "execution_count": 138,
     "metadata": {},
     "output_type": "execute_result"
    }
   ],
   "source": [
    "epics.caput(pulse1 + \"output:enabled:set\", 1)\n",
    "epics.caput(rosie1 + \"rosie:output:enabled:set\", 1)\n",
    "epics.caput(pulse1 + \"reprate:set\", 2)\n",
    "epics.caput(rosie1 + \"trigger:decimation:set\", 1)"
   ]
  },
  {
   "cell_type": "markdown",
   "id": "78efeba3",
   "metadata": {},
   "source": [
    "## Configure Pulse Generator Repetition Rate for Experiment"
   ]
  },
  {
   "cell_type": "code",
   "execution_count": 50,
   "id": "1d863dc5",
   "metadata": {},
   "outputs": [
    {
     "data": {
      "text/plain": [
       "1"
      ]
     },
     "execution_count": 50,
     "metadata": {},
     "output_type": "execute_result"
    }
   ],
   "source": [
    "epics.caput(pulse1 + \"reprate:set\", 1)"
   ]
  },
  {
   "cell_type": "markdown",
   "id": "094e0eeb",
   "metadata": {},
   "source": [
    "## Reset global trigger count to zero on all devices (required once per day)"
   ]
  },
  {
   "cell_type": "code",
   "execution_count": 51,
   "id": "e6e36543",
   "metadata": {},
   "outputs": [
    {
     "data": {
      "text/plain": [
       "1"
      ]
     },
     "execution_count": 51,
     "metadata": {},
     "output_type": "execute_result"
    }
   ],
   "source": [
    "# Disable global pulse generator trigger outputs\n",
    "epics.caput(pulse1 + \"output:enabled:set\", 0)\n",
    "sleep(2) # Todo: Wait for caget to say zero outputs enabled\n",
    "\n",
    "# Set global trigger count to zero on all devices, so they start in synchronization\n",
    "epics.caput(pulse1 + \"trigger:count:set\", 0)\n",
    "epics.caput(rosie1 + \"trigger:count:set\", 0)\n",
    "epics.caput(fauxspec1 + \"trigger:count:set\", 0)\n",
    "sleep(2) # Todo: Wait for caget to say zero trigger count everywhere\n",
    "\n",
    "# Restart global pulse generator trigger outputs\n",
    "epics.caput(pulse1 + \"output:enabled:set\", 1)"
   ]
  },
  {
   "cell_type": "markdown",
   "id": "6ff93be8",
   "metadata": {},
   "source": [
    "## Configure Rosie for Camera 1, without yet enabling its outputs"
   ]
  },
  {
   "cell_type": "code",
   "execution_count": 52,
   "id": "1cc899b7",
   "metadata": {},
   "outputs": [
    {
     "data": {
      "text/plain": [
       "1"
      ]
     },
     "execution_count": 52,
     "metadata": {},
     "output_type": "execute_result"
    }
   ],
   "source": [
    "# disable outputs, to get ready for a fresh start\n",
    "epics.caput(rosie1 + \"rosie:output:enabled:set\", 0)\n",
    "sleep(2)\n",
    "\n",
    "# Set decimation to 2, to take every other pulse\n",
    "epics.caput(rosie1 + \"trigger:decimation:set\", 2)"
   ]
  },
  {
   "cell_type": "markdown",
   "id": "a967e3d2",
   "metadata": {},
   "source": [
    "## Configure Pulse Generator Delay for FauxSpec and Camera 1"
   ]
  },
  {
   "cell_type": "code",
   "execution_count": 139,
   "id": "38975f3e",
   "metadata": {},
   "outputs": [
    {
     "data": {
      "text/plain": [
       "1"
      ]
     },
     "execution_count": 139,
     "metadata": {},
     "output_type": "execute_result"
    }
   ],
   "source": [
    "epics.caput(pulse1 + \"CH1:delay:set\", 100) # microseconds, Camera delay (80 millseconds after fauxspec delay)\n",
    "epics.caput(pulse1 + \"CH4:delay:set\", 100) # microseconds, FauxSpec delay"
   ]
  },
  {
   "cell_type": "code",
   "execution_count": 72,
   "id": "4adbe3dd",
   "metadata": {},
   "outputs": [
    {
     "data": {
      "text/plain": [
       "110100.0"
      ]
     },
     "execution_count": 72,
     "metadata": {},
     "output_type": "execute_result"
    }
   ],
   "source": [
    "epics.caget(pulse1 + \"CH1:delay\")"
   ]
  },
  {
   "cell_type": "code",
   "execution_count": 137,
   "id": "19c485f0",
   "metadata": {},
   "outputs": [
    {
     "data": {
      "text/plain": [
       "1"
      ]
     },
     "execution_count": 137,
     "metadata": {},
     "output_type": "execute_result"
    }
   ],
   "source": [
    "epics.caput(pulse1 + \"CH1:delay:set\", 100) # microseconds, Camera delay (80 millseconds after fauxspec delay)"
   ]
  },
  {
   "cell_type": "code",
   "execution_count": 123,
   "id": "d19c8c3b",
   "metadata": {},
   "outputs": [
    {
     "data": {
      "text/plain": [
       "84000.0"
      ]
     },
     "execution_count": 123,
     "metadata": {},
     "output_type": "execute_result"
    }
   ],
   "source": [
    "epics.caget(pulse1 + \"CH1:delay\")"
   ]
  },
  {
   "cell_type": "code",
   "execution_count": null,
   "id": "64cd9cdf",
   "metadata": {},
   "outputs": [],
   "source": []
  }
 ],
 "metadata": {
  "kernelspec": {
   "display_name": "Python 3",
   "language": "python",
   "name": "python3"
  },
  "language_info": {
   "codemirror_mode": {
    "name": "ipython",
    "version": 3
   },
   "file_extension": ".py",
   "mimetype": "text/x-python",
   "name": "python",
   "nbconvert_exporter": "python",
   "pygments_lexer": "ipython3",
   "version": "3.9.6"
  }
 },
 "nbformat": 4,
 "nbformat_minor": 5
}
